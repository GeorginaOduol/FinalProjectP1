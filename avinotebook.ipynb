{
 "cells": [
  {
   "cell_type": "markdown",
   "id": "ab6c1065",
   "metadata": {},
   "source": [
    "IMPORTING LIBRARIES AND CSV DATA"
   ]
  },
  {
   "cell_type": "code",
   "execution_count": 86,
   "id": "1853bce9",
   "metadata": {},
   "outputs": [
    {
     "name": "stdout",
     "output_type": "stream",
     "text": [
      "               Investigation.Type Accident.Number  Event.Date  \\\n",
      "Event.Id                                                        \n",
      "20001218X45444           Accident      SEA87LA080  1948-10-24   \n",
      "20001218X45447           Accident      LAX94LA336  1962-07-19   \n",
      "20061025X01555           Accident      NYC07LA005  1974-08-30   \n",
      "20001218X45448           Accident      LAX96LA321  1977-06-19   \n",
      "20041105X01764           Accident      CHI79FA064  1979-08-02   \n",
      "\n",
      "                       Location        Country Latitude Longitude  \\\n",
      "Event.Id                                                            \n",
      "20001218X45444  MOOSE CREEK, ID  United States      NaN       NaN   \n",
      "20001218X45447   BRIDGEPORT, CA  United States      NaN       NaN   \n",
      "20061025X01555    Saltville, VA  United States  36.9222  -81.8781   \n",
      "20001218X45448       EUREKA, CA  United States      NaN       NaN   \n",
      "20041105X01764       Canton, OH  United States      NaN       NaN   \n",
      "\n",
      "               Airport.Code Airport.Name Injury.Severity  ...  \\\n",
      "Event.Id                                                  ...   \n",
      "20001218X45444          NaN          NaN        Fatal(2)  ...   \n",
      "20001218X45447          NaN          NaN        Fatal(4)  ...   \n",
      "20061025X01555          NaN          NaN        Fatal(3)  ...   \n",
      "20001218X45448          NaN          NaN        Fatal(2)  ...   \n",
      "20041105X01764          NaN          NaN        Fatal(1)  ...   \n",
      "\n",
      "               Purpose.of.flight Air.carrier Total.Fatal.Injuries  \\\n",
      "Event.Id                                                            \n",
      "20001218X45444          Personal         NaN                  2.0   \n",
      "20001218X45447          Personal         NaN                  4.0   \n",
      "20061025X01555          Personal         NaN                  3.0   \n",
      "20001218X45448          Personal         NaN                  2.0   \n",
      "20041105X01764          Personal         NaN                  1.0   \n",
      "\n",
      "               Total.Serious.Injuries Total.Minor.Injuries Total.Uninjured  \\\n",
      "Event.Id                                                                     \n",
      "20001218X45444                    0.0                  0.0             0.0   \n",
      "20001218X45447                    0.0                  0.0             0.0   \n",
      "20061025X01555                    NaN                  NaN             NaN   \n",
      "20001218X45448                    0.0                  0.0             0.0   \n",
      "20041105X01764                    2.0                  NaN             0.0   \n",
      "\n",
      "                Weather.Condition Broad.phase.of.flight   Report.Status  \\\n",
      "Event.Id                                                                  \n",
      "20001218X45444                UNK                Cruise  Probable Cause   \n",
      "20001218X45447                UNK               Unknown  Probable Cause   \n",
      "20061025X01555                IMC                Cruise  Probable Cause   \n",
      "20001218X45448                IMC                Cruise  Probable Cause   \n",
      "20041105X01764                VMC              Approach  Probable Cause   \n",
      "\n",
      "               Publication.Date  \n",
      "Event.Id                         \n",
      "20001218X45444              NaN  \n",
      "20001218X45447       19-09-1996  \n",
      "20061025X01555       26-02-2007  \n",
      "20001218X45448       12-09-2000  \n",
      "20041105X01764       16-04-1980  \n",
      "\n",
      "[5 rows x 30 columns]\n"
     ]
    },
    {
     "name": "stderr",
     "output_type": "stream",
     "text": [
      "c:\\Users\\HP\\anaconda3\\envs\\env-learn\\lib\\site-packages\\IPython\\core\\interactiveshell.py:3145: DtypeWarning: Columns (6,7,28) have mixed types.Specify dtype option on import or set low_memory=False.\n",
      "  has_raised = await self.run_ast_nodes(code_ast.body, cell_name,\n"
     ]
    }
   ],
   "source": [
    "#importing relevant libraries\n",
    "import pandas as pd\n",
    "df = pd.read_csv('Aviation_Data.csv',index_col=0)\n",
    "\n",
    "print(df.head())"
   ]
  },
  {
   "cell_type": "code",
   "execution_count": 87,
   "id": "d05259f3",
   "metadata": {},
   "outputs": [
    {
     "name": "stdout",
     "output_type": "stream",
     "text": [
      "<class 'pandas.core.frame.DataFrame'>\n",
      "Index: 90348 entries, 20001218X45444 to 20221230106513\n",
      "Data columns (total 30 columns):\n",
      " #   Column                  Non-Null Count  Dtype  \n",
      "---  ------                  --------------  -----  \n",
      " 0   Investigation.Type      90348 non-null  object \n",
      " 1   Accident.Number         88889 non-null  object \n",
      " 2   Event.Date              88889 non-null  object \n",
      " 3   Location                88837 non-null  object \n",
      " 4   Country                 88663 non-null  object \n",
      " 5   Latitude                34382 non-null  object \n",
      " 6   Longitude               34373 non-null  object \n",
      " 7   Airport.Code            50249 non-null  object \n",
      " 8   Airport.Name            52790 non-null  object \n",
      " 9   Injury.Severity         87889 non-null  object \n",
      " 10  Aircraft.damage         85695 non-null  object \n",
      " 11  Aircraft.Category       32287 non-null  object \n",
      " 12  Registration.Number     87572 non-null  object \n",
      " 13  Make                    88826 non-null  object \n",
      " 14  Model                   88797 non-null  object \n",
      " 15  Amateur.Built           88787 non-null  object \n",
      " 16  Number.of.Engines       82805 non-null  float64\n",
      " 17  Engine.Type             81812 non-null  object \n",
      " 18  FAR.Description         32023 non-null  object \n",
      " 19  Schedule                12582 non-null  object \n",
      " 20  Purpose.of.flight       82697 non-null  object \n",
      " 21  Air.carrier             16648 non-null  object \n",
      " 22  Total.Fatal.Injuries    77488 non-null  float64\n",
      " 23  Total.Serious.Injuries  76379 non-null  float64\n",
      " 24  Total.Minor.Injuries    76956 non-null  float64\n",
      " 25  Total.Uninjured         82977 non-null  float64\n",
      " 26  Weather.Condition       84397 non-null  object \n",
      " 27  Broad.phase.of.flight   61724 non-null  object \n",
      " 28  Report.Status           82508 non-null  object \n",
      " 29  Publication.Date        73659 non-null  object \n",
      "dtypes: float64(5), object(25)\n",
      "memory usage: 21.4+ MB\n"
     ]
    }
   ],
   "source": [
    "#overview of data breakdown in rows and columns with their total values\n",
    "df.info()"
   ]
  },
  {
   "cell_type": "code",
   "execution_count": 88,
   "id": "ba338492",
   "metadata": {},
   "outputs": [
    {
     "data": {
      "text/plain": [
       "Investigation.Type            0\n",
       "Accident.Number            1459\n",
       "Event.Date                 1459\n",
       "Location                   1511\n",
       "Country                    1685\n",
       "Latitude                  55966\n",
       "Longitude                 55975\n",
       "Airport.Code              40099\n",
       "Airport.Name              37558\n",
       "Injury.Severity            2459\n",
       "Aircraft.damage            4653\n",
       "Aircraft.Category         58061\n",
       "Registration.Number        2776\n",
       "Make                       1522\n",
       "Model                      1551\n",
       "Amateur.Built              1561\n",
       "Number.of.Engines          7543\n",
       "Engine.Type                8536\n",
       "FAR.Description           58325\n",
       "Schedule                  77766\n",
       "Purpose.of.flight          7651\n",
       "Air.carrier               73700\n",
       "Total.Fatal.Injuries      12860\n",
       "Total.Serious.Injuries    13969\n",
       "Total.Minor.Injuries      13392\n",
       "Total.Uninjured            7371\n",
       "Weather.Condition          5951\n",
       "Broad.phase.of.flight     28624\n",
       "Report.Status              7840\n",
       "Publication.Date          16689\n",
       "dtype: int64"
      ]
     },
     "execution_count": 88,
     "metadata": {},
     "output_type": "execute_result"
    }
   ],
   "source": [
    "#checking blank values\n",
    "missing_values = df.isnull().sum()\n",
    "missing_values"
   ]
  },
  {
   "cell_type": "markdown",
   "id": "100ada15",
   "metadata": {},
   "source": [
    "INDEXING & SLICING INTO COLUMNS"
   ]
  },
  {
   "cell_type": "code",
   "execution_count": 89,
   "id": "ce999e5f",
   "metadata": {},
   "outputs": [
    {
     "data": {
      "text/plain": [
       "Accident      85015\n",
       "Incident       3874\n",
       "25-09-2020      702\n",
       "26-09-2020       60\n",
       "02-02-2021       39\n",
       "              ...  \n",
       "11-02-2021        1\n",
       "04-03-2021        1\n",
       "11-12-2020        1\n",
       "13-09-2021        1\n",
       "05-01-2021        1\n",
       "Name: Investigation.Type, Length: 71, dtype: int64"
      ]
     },
     "execution_count": 89,
     "metadata": {},
     "output_type": "execute_result"
    }
   ],
   "source": [
    "#Indexing into column Investigation type to see the total counts of each entry\n",
    "df['Investigation.Type'].value_counts()"
   ]
  },
  {
   "cell_type": "code",
   "execution_count": 90,
   "id": "f3f8d406",
   "metadata": {},
   "outputs": [
    {
     "data": {
      "text/plain": [
       "Substantial    64148\n",
       "Destroyed      18623\n",
       "Minor           2805\n",
       "Unknown          119\n",
       "Name: Aircraft.damage, dtype: int64"
      ]
     },
     "execution_count": 90,
     "metadata": {},
     "output_type": "execute_result"
    }
   ],
   "source": [
    "#Indexing into column Aircraft Damage to see the total counts of each entry\n",
    "df['Aircraft.damage'].value_counts()"
   ]
  },
  {
   "cell_type": "markdown",
   "id": "1529afc0",
   "metadata": {},
   "source": [
    "DATA MANIPULATION AND CLEANING"
   ]
  },
  {
   "cell_type": "markdown",
   "id": "66bc0da0",
   "metadata": {},
   "source": [
    "#Dropping Blanks in Rows and Unnecessary Columns, Replacing missing values"
   ]
  },
  {
   "cell_type": "code",
   "execution_count": 91,
   "id": "485690bb",
   "metadata": {},
   "outputs": [
    {
     "name": "stdout",
     "output_type": "stream",
     "text": [
      "               Investigation.Type Accident.Number  Event.Date  \\\n",
      "Event.Id                                                        \n",
      "20001218X45444           Accident      SEA87LA080  1948-10-24   \n",
      "20001218X45447           Accident      LAX94LA336  1962-07-19   \n",
      "20061025X01555           Accident      NYC07LA005  1974-08-30   \n",
      "20001218X45448           Accident      LAX96LA321  1977-06-19   \n",
      "20041105X01764           Accident      CHI79FA064  1979-08-02   \n",
      "...                           ...             ...         ...   \n",
      "20221227106491           Accident      ERA23LA093  2022-12-26   \n",
      "20221227106494           Accident      ERA23LA095  2022-12-26   \n",
      "20221227106497           Accident      WPR23LA075  2022-12-26   \n",
      "20221227106498           Accident      WPR23LA076  2022-12-26   \n",
      "20221230106513           Accident      ERA23LA097  2022-12-29   \n",
      "\n",
      "                       Location        Country Latitude Longitude  \\\n",
      "Event.Id                                                            \n",
      "20001218X45444  MOOSE CREEK, ID  United States      NaN       NaN   \n",
      "20001218X45447   BRIDGEPORT, CA  United States      NaN       NaN   \n",
      "20061025X01555    Saltville, VA  United States  36.9222  -81.8781   \n",
      "20001218X45448       EUREKA, CA  United States      NaN       NaN   \n",
      "20041105X01764       Canton, OH  United States      NaN       NaN   \n",
      "...                         ...            ...      ...       ...   \n",
      "20221227106491    Annapolis, MD  United States      NaN       NaN   \n",
      "20221227106494      Hampton, NH  United States      NaN       NaN   \n",
      "20221227106497       Payson, AZ  United States  341525N  1112021W   \n",
      "20221227106498       Morgan, UT  United States      NaN       NaN   \n",
      "20221230106513       Athens, GA  United States      NaN       NaN   \n",
      "\n",
      "               Airport.Code Airport.Name Injury.Severity  ...  \\\n",
      "Event.Id                                                  ...   \n",
      "20001218X45444          NaN          NaN        Fatal(2)  ...   \n",
      "20001218X45447          NaN          NaN        Fatal(4)  ...   \n",
      "20061025X01555          NaN          NaN        Fatal(3)  ...   \n",
      "20001218X45448          NaN          NaN        Fatal(2)  ...   \n",
      "20041105X01764          NaN          NaN        Fatal(1)  ...   \n",
      "...                     ...          ...             ...  ...   \n",
      "20221227106491          NaN          NaN           Minor  ...   \n",
      "20221227106494          NaN          NaN             NaN  ...   \n",
      "20221227106497          PAN       PAYSON       Non-Fatal  ...   \n",
      "20221227106498          NaN          NaN             NaN  ...   \n",
      "20221230106513          NaN          NaN           Minor  ...   \n",
      "\n",
      "               Purpose.of.flight         Air.carrier Total.Fatal.Injuries  \\\n",
      "Event.Id                                                                    \n",
      "20001218X45444          Personal                 NaN                  2.0   \n",
      "20001218X45447          Personal                 NaN                  4.0   \n",
      "20061025X01555          Personal                 NaN                  3.0   \n",
      "20001218X45448          Personal                 NaN                  2.0   \n",
      "20041105X01764          Personal                 NaN                  1.0   \n",
      "...                          ...                 ...                  ...   \n",
      "20221227106491          Personal                 NaN                  0.0   \n",
      "20221227106494               NaN                 NaN                  0.0   \n",
      "20221227106497          Personal                 NaN                  0.0   \n",
      "20221227106498          Personal  MC CESSNA 210N LLC                  0.0   \n",
      "20221230106513          Personal                 NaN                  0.0   \n",
      "\n",
      "               Total.Serious.Injuries Total.Minor.Injuries Total.Uninjured  \\\n",
      "Event.Id                                                                     \n",
      "20001218X45444                    0.0                  0.0             0.0   \n",
      "20001218X45447                    0.0                  0.0             0.0   \n",
      "20061025X01555                    NaN                  NaN             NaN   \n",
      "20001218X45448                    0.0                  0.0             0.0   \n",
      "20041105X01764                    2.0                  NaN             0.0   \n",
      "...                               ...                  ...             ...   \n",
      "20221227106491                    1.0                  0.0             0.0   \n",
      "20221227106494                    0.0                  0.0             0.0   \n",
      "20221227106497                    0.0                  0.0             1.0   \n",
      "20221227106498                    0.0                  0.0             0.0   \n",
      "20221230106513                    1.0                  0.0             1.0   \n",
      "\n",
      "                Weather.Condition Broad.phase.of.flight   Report.Status  \\\n",
      "Event.Id                                                                  \n",
      "20001218X45444                UNK                Cruise  Probable Cause   \n",
      "20001218X45447                UNK               Unknown  Probable Cause   \n",
      "20061025X01555                IMC                Cruise  Probable Cause   \n",
      "20001218X45448                IMC                Cruise  Probable Cause   \n",
      "20041105X01764                VMC              Approach  Probable Cause   \n",
      "...                           ...                   ...             ...   \n",
      "20221227106491                NaN                   NaN             NaN   \n",
      "20221227106494                NaN                   NaN             NaN   \n",
      "20221227106497                VMC                   NaN             NaN   \n",
      "20221227106498                NaN                   NaN             NaN   \n",
      "20221230106513                NaN                   NaN             NaN   \n",
      "\n",
      "               Publication.Date  \n",
      "Event.Id                         \n",
      "20001218X45444              NaN  \n",
      "20001218X45447       19-09-1996  \n",
      "20061025X01555       26-02-2007  \n",
      "20001218X45448       12-09-2000  \n",
      "20041105X01764       16-04-1980  \n",
      "...                         ...  \n",
      "20221227106491       29-12-2022  \n",
      "20221227106494              NaN  \n",
      "20221227106497       27-12-2022  \n",
      "20221227106498              NaN  \n",
      "20221230106513       30-12-2022  \n",
      "\n",
      "[88514 rows x 30 columns]\n"
     ]
    }
   ],
   "source": [
    "#dropping blank rows in column Amateur.Built because there are two boolean values\n",
    "#assigning a new variable name dfnew to the DataFrame df \n",
    "dfnew= df.dropna(subset=['Amateur.Built','Location','Country'])\n",
    "\n",
    "print (dfnew)"
   ]
  },
  {
   "cell_type": "code",
   "execution_count": 92,
   "id": "bc1f9917",
   "metadata": {},
   "outputs": [
    {
     "data": {
      "text/plain": [
       "Investigation.Type            0\n",
       "Accident.Number               0\n",
       "Event.Date                    0\n",
       "Location                      0\n",
       "Country                       0\n",
       "Latitude                  54168\n",
       "Longitude                 54177\n",
       "Airport.Code              38344\n",
       "Airport.Name              35816\n",
       "Injury.Severity            1000\n",
       "Aircraft.damage            3155\n",
       "Aircraft.Category         56266\n",
       "Registration.Number        1224\n",
       "Make                         60\n",
       "Model                        89\n",
       "Amateur.Built                 0\n",
       "Number.of.Engines          5970\n",
       "Engine.Type                6988\n",
       "FAR.Description           56532\n",
       "Schedule                  76120\n",
       "Purpose.of.flight          6112\n",
       "Air.carrier               71925\n",
       "Total.Fatal.Injuries      11311\n",
       "Total.Serious.Injuries    12395\n",
       "Total.Minor.Injuries      11813\n",
       "Total.Uninjured            5826\n",
       "Weather.Condition          4425\n",
       "Broad.phase.of.flight     27038\n",
       "Report.Status              6381\n",
       "Publication.Date          15151\n",
       "dtype: int64"
      ]
     },
     "execution_count": 92,
     "metadata": {},
     "output_type": "execute_result"
    }
   ],
   "source": [
    "\n",
    "#checking blank values\n",
    "missing_values = dfnew.isnull().sum()\n",
    "missing_values\n"
   ]
  },
  {
   "cell_type": "code",
   "execution_count": 93,
   "id": "da2ecbcf",
   "metadata": {},
   "outputs": [
    {
     "name": "stdout",
     "output_type": "stream",
     "text": [
      "<class 'pandas.core.frame.DataFrame'>\n",
      "Index: 88514 entries, 20001218X45444 to 20221230106513\n",
      "Data columns (total 30 columns):\n",
      " #   Column                  Non-Null Count  Dtype  \n",
      "---  ------                  --------------  -----  \n",
      " 0   Investigation.Type      88514 non-null  object \n",
      " 1   Accident.Number         88514 non-null  object \n",
      " 2   Event.Date              88514 non-null  object \n",
      " 3   Location                88514 non-null  object \n",
      " 4   Country                 88514 non-null  object \n",
      " 5   Latitude                34346 non-null  object \n",
      " 6   Longitude               34337 non-null  object \n",
      " 7   Airport.Code            50170 non-null  object \n",
      " 8   Airport.Name            52698 non-null  object \n",
      " 9   Injury.Severity         87514 non-null  object \n",
      " 10  Aircraft.damage         85359 non-null  object \n",
      " 11  Aircraft.Category       32248 non-null  object \n",
      " 12  Registration.Number     87290 non-null  object \n",
      " 13  Make                    88454 non-null  object \n",
      " 14  Model                   88425 non-null  object \n",
      " 15  Amateur.Built           88514 non-null  object \n",
      " 16  Number.of.Engines       82544 non-null  float64\n",
      " 17  Engine.Type             81526 non-null  object \n",
      " 18  FAR.Description         31982 non-null  object \n",
      " 19  Schedule                12394 non-null  object \n",
      " 20  Purpose.of.flight       82402 non-null  object \n",
      " 21  Air.carrier             16589 non-null  object \n",
      " 22  Total.Fatal.Injuries    77203 non-null  float64\n",
      " 23  Total.Serious.Injuries  76119 non-null  float64\n",
      " 24  Total.Minor.Injuries    76701 non-null  float64\n",
      " 25  Total.Uninjured         82688 non-null  float64\n",
      " 26  Weather.Condition       84089 non-null  object \n",
      " 27  Broad.phase.of.flight   61476 non-null  object \n",
      " 28  Report.Status           82133 non-null  object \n",
      " 29  Publication.Date        73363 non-null  object \n",
      "dtypes: float64(5), object(25)\n",
      "memory usage: 20.9+ MB\n"
     ]
    }
   ],
   "source": [
    "#progress check\n",
    "dfnew.info()"
   ]
  },
  {
   "cell_type": "code",
   "execution_count": 94,
   "id": "d5d4097a",
   "metadata": {},
   "outputs": [
    {
     "name": "stderr",
     "output_type": "stream",
     "text": [
      "c:\\Users\\HP\\anaconda3\\envs\\env-learn\\lib\\site-packages\\pandas\\core\\frame.py:4163: SettingWithCopyWarning: \n",
      "A value is trying to be set on a copy of a slice from a DataFrame\n",
      "\n",
      "See the caveats in the documentation: https://pandas.pydata.org/pandas-docs/stable/user_guide/indexing.html#returning-a-view-versus-a-copy\n",
      "  return super().drop(\n"
     ]
    }
   ],
   "source": [
    "#Dropping Columns that will not be fundamental for analysis\n",
    "dfclean = dfnew.copy(dfnew.drop(columns=[\n",
    "    #'Registration.Number', \n",
    "    'Model',\n",
    "    'Schedule', \n",
    "    'Report.Status', \n",
    "    'Airport.Code',\n",
    "    'FAR.Description',\n",
    "    'Publication.Date',\n",
    "\n",
    "], inplace=True, errors='ignore'))"
   ]
  },
  {
   "cell_type": "code",
   "execution_count": 95,
   "id": "19bea8fc",
   "metadata": {},
   "outputs": [
    {
     "name": "stdout",
     "output_type": "stream",
     "text": [
      "<class 'pandas.core.frame.DataFrame'>\n",
      "Index: 88514 entries, 20001218X45444 to 20221230106513\n",
      "Data columns (total 24 columns):\n",
      " #   Column                  Non-Null Count  Dtype  \n",
      "---  ------                  --------------  -----  \n",
      " 0   Investigation.Type      88514 non-null  object \n",
      " 1   Accident.Number         88514 non-null  object \n",
      " 2   Event.Date              88514 non-null  object \n",
      " 3   Location                88514 non-null  object \n",
      " 4   Country                 88514 non-null  object \n",
      " 5   Latitude                34346 non-null  object \n",
      " 6   Longitude               34337 non-null  object \n",
      " 7   Airport.Name            52698 non-null  object \n",
      " 8   Injury.Severity         87514 non-null  object \n",
      " 9   Aircraft.damage         85359 non-null  object \n",
      " 10  Aircraft.Category       32248 non-null  object \n",
      " 11  Registration.Number     87290 non-null  object \n",
      " 12  Make                    88454 non-null  object \n",
      " 13  Amateur.Built           88514 non-null  object \n",
      " 14  Number.of.Engines       82544 non-null  float64\n",
      " 15  Engine.Type             81526 non-null  object \n",
      " 16  Purpose.of.flight       82402 non-null  object \n",
      " 17  Air.carrier             16589 non-null  object \n",
      " 18  Total.Fatal.Injuries    77203 non-null  float64\n",
      " 19  Total.Serious.Injuries  76119 non-null  float64\n",
      " 20  Total.Minor.Injuries    76701 non-null  float64\n",
      " 21  Total.Uninjured         82688 non-null  float64\n",
      " 22  Weather.Condition       84089 non-null  object \n",
      " 23  Broad.phase.of.flight   61476 non-null  object \n",
      "dtypes: float64(5), object(19)\n",
      "memory usage: 16.9+ MB\n"
     ]
    }
   ],
   "source": [
    "dfclean.info()"
   ]
  },
  {
   "cell_type": "markdown",
   "id": "9851c62b",
   "metadata": {},
   "source": [
    "Replacing Missing Values in Categorical Data"
   ]
  },
  {
   "cell_type": "code",
   "execution_count": 105,
   "id": "9ab7877b",
   "metadata": {},
   "outputs": [],
   "source": [
    "dfcleanfinal =dfnew.copy()\n",
    "#Replace missing values in categorical data with unknown an existing value instead of dropping\n",
    "#filling in the categorical columns with unknown\n",
    "\n",
    "newdata = [\n",
    "    'Location', 'Country', 'Airport.Name',\n",
    "    'Injury.Severity', 'Aircraft.damage', 'Registration.Number',\n",
    "    'Amateur.Built', 'Number.of.Engines', 'Engine.Type','Purpose.of.flight',\n",
    "    'Air.carrier', 'Weather.Condition', 'Broad.phase.of.flight','Aircraft.Category','Make'\n",
    "    \n",
    "]\n",
    "\n",
    "\n",
    "# Apply the fillna() to the entire list\n",
    "dfnew[newdata] = dfnew[newdata].fillna('UNKNOWN')"
   ]
  },
  {
   "cell_type": "code",
   "execution_count": null,
   "id": "a723c58d",
   "metadata": {},
   "outputs": [
    {
     "data": {
      "text/plain": [
       "Investigation.Type            0\n",
       "Accident.Number               0\n",
       "Event.Date                    0\n",
       "Location                      0\n",
       "Country                       0\n",
       "Latitude                  54168\n",
       "Longitude                 54177\n",
       "Airport.Name                  0\n",
       "Injury.Severity               0\n",
       "Aircraft.damage               0\n",
       "Aircraft.Category             0\n",
       "Registration.Number           0\n",
       "Make                          0\n",
       "Amateur.Built                 0\n",
       "Number.of.Engines             0\n",
       "Engine.Type                   0\n",
       "Purpose.of.flight             0\n",
       "Air.carrier                   0\n",
       "Total.Fatal.Injuries      11311\n",
       "Total.Serious.Injuries    12395\n",
       "Total.Minor.Injuries      11813\n",
       "Total.Uninjured            5826\n",
       "Weather.Condition             0\n",
       "Broad.phase.of.flight         0\n",
       "dtype: int64"
      ]
     },
     "execution_count": 106,
     "metadata": {},
     "output_type": "execute_result"
    }
   ],
   "source": [
    "#Progress Check\n",
    "#checking blank values\n",
    "missing_values = dfcleanfinal.isnull().sum()\n",
    "missing_values"
   ]
  },
  {
   "cell_type": "code",
   "execution_count": 107,
   "id": "cbbfd3e4",
   "metadata": {},
   "outputs": [
    {
     "name": "stdout",
     "output_type": "stream",
     "text": [
      "<class 'pandas.core.frame.DataFrame'>\n",
      "Index: 88514 entries, 20001218X45444 to 20221230106513\n",
      "Data columns (total 24 columns):\n",
      " #   Column                  Non-Null Count  Dtype  \n",
      "---  ------                  --------------  -----  \n",
      " 0   Investigation.Type      88514 non-null  object \n",
      " 1   Accident.Number         88514 non-null  object \n",
      " 2   Event.Date              88514 non-null  object \n",
      " 3   Location                88514 non-null  object \n",
      " 4   Country                 88514 non-null  object \n",
      " 5   Latitude                34346 non-null  object \n",
      " 6   Longitude               34337 non-null  object \n",
      " 7   Airport.Name            88514 non-null  object \n",
      " 8   Injury.Severity         88514 non-null  object \n",
      " 9   Aircraft.damage         88514 non-null  object \n",
      " 10  Aircraft.Category       88514 non-null  object \n",
      " 11  Registration.Number     88514 non-null  object \n",
      " 12  Make                    88514 non-null  object \n",
      " 13  Amateur.Built           88514 non-null  object \n",
      " 14  Number.of.Engines       88514 non-null  object \n",
      " 15  Engine.Type             88514 non-null  object \n",
      " 16  Purpose.of.flight       88514 non-null  object \n",
      " 17  Air.carrier             88514 non-null  object \n",
      " 18  Total.Fatal.Injuries    77203 non-null  float64\n",
      " 19  Total.Serious.Injuries  76119 non-null  float64\n",
      " 20  Total.Minor.Injuries    76701 non-null  float64\n",
      " 21  Total.Uninjured         82688 non-null  float64\n",
      " 22  Weather.Condition       88514 non-null  object \n",
      " 23  Broad.phase.of.flight   88514 non-null  object \n",
      "dtypes: float64(4), object(20)\n",
      "memory usage: 16.9+ MB\n"
     ]
    }
   ],
   "source": [
    "dfcleanfinal.info()"
   ]
  },
  {
   "cell_type": "markdown",
   "id": "a0e7fcf4",
   "metadata": {},
   "source": [
    "DATA CLEANING OF NUMERICAL VALUES"
   ]
  },
  {
   "cell_type": "code",
   "execution_count": 115,
   "id": "25d1f9ed",
   "metadata": {},
   "outputs": [],
   "source": [
    "#Convert to numeric and fill NaN with Sentinel Value (-9999.0)\n",
    "dfcleanfinal['Latitude'] = pd.to_numeric(dfcleanfinal['Latitude'], errors='coerce').fillna(-9999.0)\n",
    "dfcleanfinal['Longitude'] = pd.to_numeric(dfcleanfinal['Longitude'], errors='coerce').fillna(-9999.0)"
   ]
  },
  {
   "cell_type": "code",
   "execution_count": 116,
   "id": "8f83ff6b",
   "metadata": {},
   "outputs": [
    {
     "name": "stdout",
     "output_type": "stream",
     "text": [
      "<class 'pandas.core.frame.DataFrame'>\n",
      "Index: 88514 entries, 20001218X45444 to 20221230106513\n",
      "Data columns (total 24 columns):\n",
      " #   Column                  Non-Null Count  Dtype  \n",
      "---  ------                  --------------  -----  \n",
      " 0   Investigation.Type      88514 non-null  object \n",
      " 1   Accident.Number         88514 non-null  object \n",
      " 2   Event.Date              88514 non-null  object \n",
      " 3   Location                88514 non-null  object \n",
      " 4   Country                 88514 non-null  object \n",
      " 5   Latitude                88514 non-null  float64\n",
      " 6   Longitude               88514 non-null  float64\n",
      " 7   Airport.Name            88514 non-null  object \n",
      " 8   Injury.Severity         88514 non-null  object \n",
      " 9   Aircraft.damage         88514 non-null  object \n",
      " 10  Aircraft.Category       88514 non-null  object \n",
      " 11  Registration.Number     88514 non-null  object \n",
      " 12  Make                    88514 non-null  object \n",
      " 13  Amateur.Built           88514 non-null  object \n",
      " 14  Number.of.Engines       88514 non-null  object \n",
      " 15  Engine.Type             88514 non-null  object \n",
      " 16  Purpose.of.flight       88514 non-null  object \n",
      " 17  Air.carrier             88514 non-null  object \n",
      " 18  Total.Fatal.Injuries    77203 non-null  float64\n",
      " 19  Total.Serious.Injuries  76119 non-null  float64\n",
      " 20  Total.Minor.Injuries    76701 non-null  float64\n",
      " 21  Total.Uninjured         82688 non-null  float64\n",
      " 22  Weather.Condition       88514 non-null  object \n",
      " 23  Broad.phase.of.flight   88514 non-null  object \n",
      "dtypes: float64(6), object(18)\n",
      "memory usage: 16.9+ MB\n"
     ]
    }
   ],
   "source": [
    "dfcleanfinal.info()"
   ]
  },
  {
   "cell_type": "code",
   "execution_count": null,
   "id": "f04aba92",
   "metadata": {},
   "outputs": [],
   "source": [
    "'Number.of.Engines' #mode"
   ]
  }
 ],
 "metadata": {
  "kernelspec": {
   "display_name": "env-learn",
   "language": "python",
   "name": "python3"
  },
  "language_info": {
   "codemirror_mode": {
    "name": "ipython",
    "version": 3
   },
   "file_extension": ".py",
   "mimetype": "text/x-python",
   "name": "python",
   "nbconvert_exporter": "python",
   "pygments_lexer": "ipython3",
   "version": "3.8.5"
  }
 },
 "nbformat": 4,
 "nbformat_minor": 5
}
