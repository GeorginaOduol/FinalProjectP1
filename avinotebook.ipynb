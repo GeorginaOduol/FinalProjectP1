{
 "cells": [
  {
   "cell_type": "code",
   "execution_count": null,
   "id": "1853bce9",
   "metadata": {},
   "outputs": [
    {
     "name": "stderr",
     "output_type": "stream",
     "text": [
      "c:\\Users\\HP\\anaconda3\\envs\\env-learn\\lib\\site-packages\\IPython\\core\\interactiveshell.py:3145: DtypeWarning: Columns (6,7,28) have mixed types.Specify dtype option on import or set low_memory=False.\n",
      "  has_raised = await self.run_ast_nodes(code_ast.body, cell_name,\n"
     ]
    },
    {
     "name": "stdout",
     "output_type": "stream",
     "text": [
      "               Investigation.Type Accident.Number  Event.Date  \\\n",
      "Event.Id                                                        \n",
      "20001218X45444           Accident      SEA87LA080  1948-10-24   \n",
      "20001218X45447           Accident      LAX94LA336  1962-07-19   \n",
      "20061025X01555           Accident      NYC07LA005  1974-08-30   \n",
      "20001218X45448           Accident      LAX96LA321  1977-06-19   \n",
      "20041105X01764           Accident      CHI79FA064  1979-08-02   \n",
      "\n",
      "                       Location        Country Latitude Longitude  \\\n",
      "Event.Id                                                            \n",
      "20001218X45444  MOOSE CREEK, ID  United States      NaN       NaN   \n",
      "20001218X45447   BRIDGEPORT, CA  United States      NaN       NaN   \n",
      "20061025X01555    Saltville, VA  United States  36.9222  -81.8781   \n",
      "20001218X45448       EUREKA, CA  United States      NaN       NaN   \n",
      "20041105X01764       Canton, OH  United States      NaN       NaN   \n",
      "\n",
      "               Airport.Code Airport.Name Injury.Severity  ...  \\\n",
      "Event.Id                                                  ...   \n",
      "20001218X45444          NaN          NaN        Fatal(2)  ...   \n",
      "20001218X45447          NaN          NaN        Fatal(4)  ...   \n",
      "20061025X01555          NaN          NaN        Fatal(3)  ...   \n",
      "20001218X45448          NaN          NaN        Fatal(2)  ...   \n",
      "20041105X01764          NaN          NaN        Fatal(1)  ...   \n",
      "\n",
      "               Purpose.of.flight Air.carrier Total.Fatal.Injuries  \\\n",
      "Event.Id                                                            \n",
      "20001218X45444          Personal         NaN                  2.0   \n",
      "20001218X45447          Personal         NaN                  4.0   \n",
      "20061025X01555          Personal         NaN                  3.0   \n",
      "20001218X45448          Personal         NaN                  2.0   \n",
      "20041105X01764          Personal         NaN                  1.0   \n",
      "\n",
      "               Total.Serious.Injuries Total.Minor.Injuries Total.Uninjured  \\\n",
      "Event.Id                                                                     \n",
      "20001218X45444                    0.0                  0.0             0.0   \n",
      "20001218X45447                    0.0                  0.0             0.0   \n",
      "20061025X01555                    NaN                  NaN             NaN   \n",
      "20001218X45448                    0.0                  0.0             0.0   \n",
      "20041105X01764                    2.0                  NaN             0.0   \n",
      "\n",
      "                Weather.Condition Broad.phase.of.flight   Report.Status  \\\n",
      "Event.Id                                                                  \n",
      "20001218X45444                UNK                Cruise  Probable Cause   \n",
      "20001218X45447                UNK               Unknown  Probable Cause   \n",
      "20061025X01555                IMC                Cruise  Probable Cause   \n",
      "20001218X45448                IMC                Cruise  Probable Cause   \n",
      "20041105X01764                VMC              Approach  Probable Cause   \n",
      "\n",
      "               Publication.Date  \n",
      "Event.Id                         \n",
      "20001218X45444              NaN  \n",
      "20001218X45447       19-09-1996  \n",
      "20061025X01555       26-02-2007  \n",
      "20001218X45448       12-09-2000  \n",
      "20041105X01764       16-04-1980  \n",
      "\n",
      "[5 rows x 30 columns]\n"
     ]
    }
   ],
   "source": [
    "#importing relevant libraries\n",
    "import pandas as pd\n",
    "df = pd.read_csv('Aviation_Data.csv',index_col=0)\n",
    "\n",
    "print(df.head())"
   ]
  },
  {
   "cell_type": "code",
   "execution_count": null,
   "id": "d05259f3",
   "metadata": {},
   "outputs": [
    {
     "name": "stdout",
     "output_type": "stream",
     "text": [
      "<class 'pandas.core.frame.DataFrame'>\n",
      "Index: 90348 entries, 20001218X45444 to 20221230106513\n",
      "Data columns (total 30 columns):\n",
      " #   Column                  Non-Null Count  Dtype  \n",
      "---  ------                  --------------  -----  \n",
      " 0   Investigation.Type      90348 non-null  object \n",
      " 1   Accident.Number         88889 non-null  object \n",
      " 2   Event.Date              88889 non-null  object \n",
      " 3   Location                88837 non-null  object \n",
      " 4   Country                 88663 non-null  object \n",
      " 5   Latitude                34382 non-null  object \n",
      " 6   Longitude               34373 non-null  object \n",
      " 7   Airport.Code            50249 non-null  object \n",
      " 8   Airport.Name            52790 non-null  object \n",
      " 9   Injury.Severity         87889 non-null  object \n",
      " 10  Aircraft.damage         85695 non-null  object \n",
      " 11  Aircraft.Category       32287 non-null  object \n",
      " 12  Registration.Number     87572 non-null  object \n",
      " 13  Make                    88826 non-null  object \n",
      " 14  Model                   88797 non-null  object \n",
      " 15  Amateur.Built           88787 non-null  object \n",
      " 16  Number.of.Engines       82805 non-null  float64\n",
      " 17  Engine.Type             81812 non-null  object \n",
      " 18  FAR.Description         32023 non-null  object \n",
      " 19  Schedule                12582 non-null  object \n",
      " 20  Purpose.of.flight       82697 non-null  object \n",
      " 21  Air.carrier             16648 non-null  object \n",
      " 22  Total.Fatal.Injuries    77488 non-null  float64\n",
      " 23  Total.Serious.Injuries  76379 non-null  float64\n",
      " 24  Total.Minor.Injuries    76956 non-null  float64\n",
      " 25  Total.Uninjured         82977 non-null  float64\n",
      " 26  Weather.Condition       84397 non-null  object \n",
      " 27  Broad.phase.of.flight   61724 non-null  object \n",
      " 28  Report.Status           82508 non-null  object \n",
      " 29  Publication.Date        73659 non-null  object \n",
      "dtypes: float64(5), object(25)\n",
      "memory usage: 21.4+ MB\n"
     ]
    }
   ],
   "source": [
    "#overview of data breakdown in rows and columns with their total values\n",
    "df.info()"
   ]
  },
  {
   "cell_type": "code",
   "execution_count": null,
   "id": "ce999e5f",
   "metadata": {},
   "outputs": [
    {
     "data": {
      "text/plain": [
       "Accident      85015\n",
       "Incident       3874\n",
       "25-09-2020      702\n",
       "26-09-2020       60\n",
       "02-02-2021       39\n",
       "              ...  \n",
       "04-08-2021        1\n",
       "06-01-2021        1\n",
       "31-03-2021        1\n",
       "05-01-2021        1\n",
       "05-04-2021        1\n",
       "Name: Investigation.Type, Length: 71, dtype: int64"
      ]
     },
     "execution_count": 9,
     "metadata": {},
     "output_type": "execute_result"
    }
   ],
   "source": [
    "#Indexing into column Investigation type to see the total counts of \n",
    "df['Investigation.Type'].value_counts()"
   ]
  },
  {
   "cell_type": "code",
   "execution_count": null,
   "id": "f3f8d406",
   "metadata": {},
   "outputs": [],
   "source": []
  }
 ],
 "metadata": {
  "kernelspec": {
   "display_name": "env-learn",
   "language": "python",
   "name": "python3"
  },
  "language_info": {
   "codemirror_mode": {
    "name": "ipython",
    "version": 3
   },
   "file_extension": ".py",
   "mimetype": "text/x-python",
   "name": "python",
   "nbconvert_exporter": "python",
   "pygments_lexer": "ipython3",
   "version": "3.8.5"
  }
 },
 "nbformat": 4,
 "nbformat_minor": 5
}
